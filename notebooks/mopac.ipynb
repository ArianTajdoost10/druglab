{
 "cells": [
  {
   "cell_type": "code",
   "execution_count": 3,
   "id": "82d2985d",
   "metadata": {},
   "outputs": [
    {
     "name": "stdout",
     "output_type": "stream",
     "text": [
      "Optimization output: mopac_test/ZHW3DKFX.out\n",
      "Energy output: mopac_test/KIQP2KVS.out\n",
      "-14.22747\n",
      "run_test/2QQFCANZ.out\n",
      "-14.99095\n"
     ]
    }
   ],
   "source": [
    "import os\n",
    "from rdkit import Chem\n",
    "from rdkit.Chem import AllChem\n",
    "from druglab.mopac.config import MOPACConfig, MOPACMozymeConfig\n",
    "from druglab.mopac.interface import MOPACInterface\n",
    "from druglab.mopac.optimizer import MOPACOptimizer\n",
    "from druglab.mopac.energy import MOPACEnergyCalculator\n",
    "\n",
    "def test_optimization_and_energy(mol):\n",
    "    interface = MOPACInterface(\n",
    "        mopac_path=\"auto\",\n",
    "        output_dir=\"./mopac_test\"\n",
    "    )\n",
    "    opt_config = MOPACMozymeConfig()\n",
    "    opt_config.keywords.extend([\"PM7\", \"PRECISE\"])\n",
    "    opt_config.add_molecule(mol)\n",
    "    opt_out, _ = interface.run_job(config=opt_config)\n",
    "    print(f\"Optimization output: {opt_out}\")\n",
    "\n",
    "    energy_config = MOPACConfig()\n",
    "    energy_config.keywords.extend([\"PM7\", \"1SCF\"])\n",
    "    energy_config.add_molecule(mol)\n",
    "\n",
    "    energy_out, _ = interface.run_job(config=energy_config)\n",
    "    print(f\"Energy output: {energy_out}\")\n",
    "\n",
    "    energy_calculator = MOPACEnergyCalculator(config=energy_config, output_dir=\"run_test\")\n",
    "    energy = energy_calculator.calculate_energy()\n",
    "    print(energy[\"energy\"])\n",
    "\n",
    "    optimizer = MOPACOptimizer(config=opt_config, output_dir=\"run_test\")\n",
    "    opt_en = optimizer.run_optimization()\n",
    "    print(opt_en[\"post_energy\"])\n",
    "\n",
    "\n",
    "mol = Chem.MolFromSmiles(\"C=CC=O\")\n",
    "mol = Chem.AddHs(mol)\n",
    "AllChem.EmbedMolecule(mol)\n",
    "AllChem.MMFFOptimizeMolecule(mol)\n",
    "test_optimization_and_energy(mol)\n"
   ]
  },
  {
   "cell_type": "code",
   "execution_count": null,
   "id": "94e6f600",
   "metadata": {},
   "outputs": [],
   "source": []
  }
 ],
 "metadata": {
  "kernelspec": {
   "display_name": "druglab",
   "language": "python",
   "name": "python3"
  },
  "language_info": {
   "codemirror_mode": {
    "name": "ipython",
    "version": 3
   },
   "file_extension": ".py",
   "mimetype": "text/x-python",
   "name": "python",
   "nbconvert_exporter": "python",
   "pygments_lexer": "ipython3",
   "version": "3.12.10"
  }
 },
 "nbformat": 4,
 "nbformat_minor": 5
}
