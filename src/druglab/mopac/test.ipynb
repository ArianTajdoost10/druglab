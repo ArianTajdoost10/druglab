{
 "cells": [
  {
   "cell_type": "code",
   "execution_count": 1,
   "id": "51b4e08b",
   "metadata": {},
   "outputs": [
    {
     "name": "stdout",
     "output_type": "stream",
     "text": [
      "PDBOUT MOZYME GEO-OK SETPI CHARGE=0\n",
      "MOPACMozymeConfig \n",
      "| Unnamed \n",
      "HETATM    1  C1  UNL     1       0.000   0.000   0.000  1.00  0.00           C  \n",
      "HETATM    2  C2  UNL     1       0.000   0.000   0.000  1.00  0.00           C  \n",
      "HETATM    3  C3  UNL     1       0.000   0.000   0.000  1.00  0.00           C  \n",
      "HETATM    4  O1  UNL     1       0.000   0.000   0.000  1.00  0.00           O  \n",
      "\n",
      "1 2\n",
      "3 4\n"
     ]
    }
   ],
   "source": [
    "from rdkit import Chem\n",
    "from config import MOPACMozymeConfig\n",
    "\n",
    "mol = Chem.MolFromSmiles(\"C=CC=O\")\n",
    "\n",
    "config = MOPACMozymeConfig()\n",
    "config.add_molecule(mol)\n",
    "\n",
    "print(config.get_config_str())"
   ]
  },
  {
   "cell_type": "code",
   "execution_count": 2,
   "id": "f69845a4",
   "metadata": {},
   "outputs": [
    {
     "name": "stdout",
     "output_type": "stream",
     "text": [
      "MOPAC input file written: mopac_runs/YLKJDX.mop\n",
      "\n",
      "\n",
      "          MOPAC Job: \"YLKJDX.mop\" ended normally on Apr 22, 2025, at 08:25.\n",
      "\n"
     ]
    }
   ],
   "source": [
    "from rdkit import Chem\n",
    "from interface import MOPACInterface, MOPACMozymeConfig\n",
    "\n",
    "mol = Chem.MolFromSmiles(\"C=CC=O\")\n",
    "\n",
    "interface = MOPACInterface(config=MOPACMozymeConfig())\n",
    "\n",
    "interface.update_config(mol)\n",
    "\n",
    "out_path, arc_path = interface.run_job(\n",
    "    base_dir=\"./mopac_runs\",\n",
    "    debug=True\n",
    ")"
   ]
  },
  {
   "cell_type": "code",
   "execution_count": 3,
   "id": "7026115c",
   "metadata": {},
   "outputs": [
    {
     "name": "stdout",
     "output_type": "stream",
     "text": [
      "MOPAC input file written: LZGMTN.mop\n",
      "\n",
      "\n",
      "          MOPAC Job: \"LZGMTN.mop\" ended normally on Apr 22, 2025, at 08:27.\n",
      "\n",
      "-54.56\n",
      "-57.86\n",
      "(9, 3)\n",
      "MOPAC input file written: A20SAN.mop\n",
      "\n",
      "\n",
      "          MOPAC Job: \"A20SAN.mop\" ended normally on Apr 22, 2025, at 08:27.\n",
      "\n",
      "-54.56\n"
     ]
    }
   ],
   "source": [
    "import os\n",
    "from rdkit import Chem\n",
    "from rdkit.Chem import AllChem\n",
    "from config import MOPACConfig\n",
    "from optimizer import MOPACOptimizer\n",
    "from energy import MOPACEnergyCalculator\n",
    "\n",
    "def test_mopac_optimization_and_energy():\n",
    "\n",
    "    smi = \"CCO\"\n",
    "    mol = Chem.MolFromSmiles(smi)\n",
    "    mol = Chem.AddHs(mol)\n",
    "    AllChem.EmbedMolecule(mol)\n",
    "    \n",
    "    opt_config = MOPACConfig()\n",
    "    opt_config.keywords.extend([\"PM7\", \"PRECISE\"])\n",
    "    optimizer = MOPACOptimizer(config=opt_config)\n",
    "\n",
    "    opt_results = optimizer.run_optimization(mol, debug=True)\n",
    "    print(f\"{opt_results['pre_energy']:.2f}\")\n",
    "    print(f\"{opt_results['post_energy']:.2f}\")\n",
    "    print(f\"{opt_results['coordinates'].shape}\")\n",
    "\n",
    "    energy_config = MOPACConfig()\n",
    "    energy_config.keywords.extend([\"PM7\", \"1SCF\"])\n",
    "    energy_calc = MOPACEnergyCalculator(config=energy_config)\n",
    "    \n",
    "    energy_results = energy_calc.calculate_energy(mol, debug=True)\n",
    "    print(f\"{energy_results['energy']:.2f}\")\n",
    "    \n",
    "test_mopac_optimization_and_energy()"
   ]
  },
  {
   "cell_type": "code",
   "execution_count": null,
   "id": "94e6f600",
   "metadata": {},
   "outputs": [],
   "source": []
  }
 ],
 "metadata": {
  "kernelspec": {
   "display_name": "ASH",
   "language": "python",
   "name": "python3"
  },
  "language_info": {
   "codemirror_mode": {
    "name": "ipython",
    "version": 3
   },
   "file_extension": ".py",
   "mimetype": "text/x-python",
   "name": "python",
   "nbconvert_exporter": "python",
   "pygments_lexer": "ipython3",
   "version": "3.11.9"
  }
 },
 "nbformat": 4,
 "nbformat_minor": 5
}
