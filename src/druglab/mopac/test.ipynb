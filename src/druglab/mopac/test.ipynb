{
 "cells": [
  {
   "cell_type": "code",
   "execution_count": 2,
   "id": "51b4e08b",
   "metadata": {},
   "outputs": [
    {
     "name": "stdout",
     "output_type": "stream",
     "text": [
      "PDBOUT MOZYME GEO-OK SETPI CHARGE=0\n",
      "MOPACMozymeConfig \n",
      "| Unnamed \n",
      "HETATM    1  C1  UNL     1       0.000   0.000   0.000  1.00  0.00           C  \n",
      "HETATM    2  C2  UNL     1       0.000   0.000   0.000  1.00  0.00           C  \n",
      "HETATM    3  C3  UNL     1       0.000   0.000   0.000  1.00  0.00           C  \n",
      "HETATM    4  O1  UNL     1       0.000   0.000   0.000  1.00  0.00           O  \n",
      "\n",
      "1 2\n",
      "3 4\n"
     ]
    }
   ],
   "source": [
    "from rdkit import Chem\n",
    "from config import MOPACMozymeConfig\n",
    "# Create a molecule\n",
    "mol = Chem.MolFromSmiles(\"C=CC=O\")\n",
    "\n",
    "# Create MOPAC config\n",
    "config = MOPACMozymeConfig()\n",
    "config.add_molecule(mol)\n",
    "\n",
    "# Get the configuration string\n",
    "print(config.get_config_str())"
   ]
  },
  {
   "cell_type": "code",
   "execution_count": 3,
   "id": "f69845a4",
   "metadata": {},
   "outputs": [
    {
     "name": "stdout",
     "output_type": "stream",
     "text": [
      "MOPAC input file written: mopac_runs/4XBIXX.mop\n",
      "\n",
      "\n",
      "          MOPAC Job: \"4XBIXX.mop\" ended normally on Apr 21, 2025, at 23:33.\n",
      "\n"
     ]
    }
   ],
   "source": [
    "from rdkit import Chem\n",
    "from interface import MOPACInterface, MOPACMozymeConfig\n",
    "\n",
    "# Create a molecule\n",
    "mol = Chem.MolFromSmiles(\"C=CC=O\")\n",
    "\n",
    "# Create interface with Mozyme configuration\n",
    "interface = MOPACInterface(config=MOPACMozymeConfig())\n",
    "\n",
    "# Add molecules\n",
    "interface.update_config(mol)\n",
    "\n",
    "# Run calculation\n",
    "out_path, arc_path = interface.run_job(\n",
    "    base_dir=\"./mopac_runs\",\n",
    "    debug=True\n",
    ")"
   ]
  },
  {
   "cell_type": "code",
   "execution_count": 5,
   "id": "7026115c",
   "metadata": {},
   "outputs": [
    {
     "name": "stdout",
     "output_type": "stream",
     "text": [
      "Running optimization...\n",
      "MOPAC input file written: BQX1GL.mop\n",
      "\n",
      "\n",
      "          MOPAC Job: \"BQX1GL.mop\" ended normally on Apr 21, 2025, at 23:41.\n",
      "\n",
      "Initial energy: -54.56 kcal/mol\n",
      "Final energy: -57.86 kcal/mol\n",
      "Optimized coordinates shape: (9, 3)\n",
      "\n",
      "Running single-point energy calculation...\n",
      "MOPAC input file written: 62JGS7.mop\n",
      "\n",
      "\n",
      "          MOPAC Job: \"62JGS7.mop\" ended normally on Apr 21, 2025, at 23:41.\n",
      "\n",
      "Single-point energy: -54.56 kcal/mol\n"
     ]
    }
   ],
   "source": [
    "import os\n",
    "from rdkit import Chem\n",
    "from rdkit.Chem import AllChem\n",
    "from config import MOPACConfig\n",
    "from optimizer import MOPACOptimizer\n",
    "from energy import MOPACEnergyCalculator\n",
    "\n",
    "def test_mopac_optimization_and_energy():\n",
    "    # Create a simple molecule (ethanol)\n",
    "    smi = \"CCO\"\n",
    "    mol = Chem.MolFromSmiles(smi)\n",
    "    mol = Chem.AddHs(mol)\n",
    "    AllChem.EmbedMolecule(mol)\n",
    "    \n",
    "    # Set up optimizer\n",
    "    opt_config = MOPACConfig()\n",
    "    opt_config.keywords.extend([\"PM7\", \"PRECISE\"])  # Use PM7 with precise optimization\n",
    "    optimizer = MOPACOptimizer(config=opt_config)\n",
    "    \n",
    "    # Run optimization\n",
    "    print(\"Running optimization...\")\n",
    "    opt_results = optimizer.run_optimization(mol, debug=True)\n",
    "    print(f\"Initial energy: {opt_results['pre_energy']:.2f} kcal/mol\")\n",
    "    print(f\"Final energy: {opt_results['post_energy']:.2f} kcal/mol\")\n",
    "    print(f\"Optimized coordinates shape: {opt_results['coordinates'].shape}\")\n",
    "    \n",
    "    # Set up energy calculator\n",
    "    energy_config = MOPACConfig()\n",
    "    energy_config.keywords.extend([\"PM7\", \"1SCF\"])  # Single-point calculation\n",
    "    energy_calc = MOPACEnergyCalculator(config=energy_config)\n",
    "    \n",
    "    # Run energy calculation on optimized geometry\n",
    "    print(\"\\nRunning single-point energy calculation...\")\n",
    "    energy_results = energy_calc.calculate_energy(mol, debug=True)\n",
    "    print(f\"Single-point energy: {energy_results['energy']:.2f} kcal/mol\")\n",
    "    \n",
    "    # Clean up\n",
    "    for f in os.listdir('.'):\n",
    "        if f.endswith(('.mop', '.out', '.arc')):\n",
    "            os.remove(f)\n",
    "\n",
    "if __name__ == \"__main__\":\n",
    "    test_mopac_optimization_and_energy()"
   ]
  },
  {
   "cell_type": "code",
   "execution_count": null,
   "id": "94e6f600",
   "metadata": {},
   "outputs": [],
   "source": []
  }
 ],
 "metadata": {
  "kernelspec": {
   "display_name": "ASH",
   "language": "python",
   "name": "python3"
  },
  "language_info": {
   "codemirror_mode": {
    "name": "ipython",
    "version": 3
   },
   "file_extension": ".py",
   "mimetype": "text/x-python",
   "name": "python",
   "nbconvert_exporter": "python",
   "pygments_lexer": "ipython3",
   "version": "3.11.9"
  }
 },
 "nbformat": 4,
 "nbformat_minor": 5
}
